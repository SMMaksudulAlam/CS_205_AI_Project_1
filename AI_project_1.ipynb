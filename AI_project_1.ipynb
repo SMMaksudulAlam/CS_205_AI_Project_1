{
  "nbformat": 4,
  "nbformat_minor": 0,
  "metadata": {
    "colab": {
      "provenance": []
    },
    "kernelspec": {
      "name": "python3",
      "display_name": "Python 3"
    },
    "language_info": {
      "name": "python"
    }
  },
  "cells": [
    {
      "cell_type": "code",
      "execution_count": 4,
      "metadata": {
        "id": "NcwZIMZCpUuV"
      },
      "outputs": [],
      "source": [
        "import math\n",
        "from queue import PriorityQueue\n",
        "import time"
      ]
    },
    {
      "cell_type": "code",
      "source": [
        "puzzle = 8\n",
        "dim = int(math.sqrt(puzzle)) + 1\n",
        "print(dim)"
      ],
      "metadata": {
        "id": "QipwMGO3stJH"
      },
      "execution_count": null,
      "outputs": []
    },
    {
      "cell_type": "code",
      "source": [
        "goal_state = []\n",
        "co_ordinates = {}\n",
        "for i in range(dim):\n",
        "  temp = []\n",
        "  for j in range(dim):\n",
        "    val = i*dim+(j+1)\n",
        "    temp.append(val)\n",
        "    co_ord = [i, j]\n",
        "    co_ordinates[val] = co_ord\n",
        "  goal_state.append(temp)\n",
        "\n",
        "last_val = goal_state[-1][-1]\n",
        "goal_state[-1][-1] = 0\n",
        "temp_co_ord = co_ordinates[last_val]\n",
        "del co_ordinates[last_val]\n",
        "co_ordinates[0] = temp_co_ord\n",
        "print(last_val)\n",
        "print(goal_state)\n",
        "print(co_ordinates)"
      ],
      "metadata": {
        "id": "A6dpQcc4s6FL"
      },
      "execution_count": null,
      "outputs": []
    },
    {
      "cell_type": "code",
      "source": [
        "def manhattan_distance(state):\n",
        "  m_dist = 0\n",
        "  for i in range(dim):\n",
        "    for j in range(dim):\n",
        "      val = state[i][j]\n",
        "      if(val == 0):\n",
        "        continue\n",
        "      goal_co_ord = co_ordinates[val]\n",
        "      i_goal = goal_co_ord[0]\n",
        "      j_goal = goal_co_ord[1]\n",
        "      m_dist += abs(i_goal - i) + abs(j_goal - j)\n",
        "  return m_dist"
      ],
      "metadata": {
        "id": "oEiVY8unzuZu"
      },
      "execution_count": 7,
      "outputs": []
    },
    {
      "cell_type": "code",
      "source": [
        "state = [[7, 2, 4], [5, 0, 6], [8, 3, 1]]\n",
        "dist = manhattan_distance(state)\n",
        "print(dist)"
      ],
      "metadata": {
        "id": "Z6VmP8PEz1XK"
      },
      "execution_count": null,
      "outputs": []
    },
    {
      "cell_type": "code",
      "source": [
        "def misplaced_tile(state):\n",
        "  m_tile = 0\n",
        "  for i in range(dim):\n",
        "    for j in range(dim):\n",
        "      val = goal_state[i][j]\n",
        "      if(val == 0):\n",
        "        continue\n",
        "      if(val != state[i][j]):\n",
        "        m_tile += 1\n",
        "  return m_tile"
      ],
      "metadata": {
        "id": "nVX-xPJp7JgT"
      },
      "execution_count": 9,
      "outputs": []
    },
    {
      "cell_type": "code",
      "source": [
        "state = [[7, 2, 4], [5, 0, 6], [8, 3, 1]]\n",
        "dist = misplaced_tile(state)\n",
        "print(dist)"
      ],
      "metadata": {
        "id": "sMM4tA477OuR"
      },
      "execution_count": null,
      "outputs": []
    },
    {
      "cell_type": "code",
      "source": [
        "class Node:\n",
        "  def __init__(self, state, parent=None, cost=0):\n",
        "    self.state = state\n",
        "    self.parent = parent\n",
        "    self.cost = cost\n",
        "\n",
        "  def __lt__(self, other_node):\n",
        "        return self.cost < other_node.cost"
      ],
      "metadata": {
        "id": "ODSPC6nVWcso"
      },
      "execution_count": 11,
      "outputs": []
    },
    {
      "cell_type": "code",
      "source": [
        "def expand(node):\n",
        "  state = node.state\n",
        "  expanded_nodes = []\n",
        "  blank_i = dim - 1\n",
        "  blank_j = dim - 1\n",
        "\n",
        "  for i in range(dim):\n",
        "    for j in range(dim):\n",
        "      if(state[i][j] == 0):\n",
        "        blank_i = i\n",
        "        blank_j = j\n",
        "        break\n",
        "  if(blank_i > 0):\n",
        "    child = []\n",
        "    for lst in state:\n",
        "      child.append(lst[:])\n",
        "    val = state[blank_i - 1][blank_j]\n",
        "    child[blank_i][blank_j] = val\n",
        "    child[blank_i - 1][blank_j] = 0\n",
        "    child_node = Node(child, state, node.cost+1)\n",
        "    expanded_nodes.append(child_node)\n",
        "\n",
        "  if(blank_i < dim - 1):\n",
        "    child = []\n",
        "    for lst in state:\n",
        "      child.append(lst[:])\n",
        "    val = state[blank_i + 1][blank_j]\n",
        "    child[blank_i][blank_j] = val\n",
        "    child[blank_i + 1][blank_j] = 0\n",
        "    child_node = Node(child, state, node.cost+1)\n",
        "    expanded_nodes.append(child_node)\n",
        "\n",
        "  if(blank_j > 0):\n",
        "    child = []\n",
        "    for lst in state:\n",
        "      child.append(lst[:])\n",
        "    val = state[blank_i][blank_j - 1]\n",
        "    child[blank_i][blank_j] = val\n",
        "    child[blank_i][blank_j - 1] = 0\n",
        "    child_node = Node(child, state, node.cost+1)\n",
        "    expanded_nodes.append(child_node)\n",
        "\n",
        "  if(blank_j < dim - 1):\n",
        "    child = []\n",
        "    for lst in state:\n",
        "      child.append(lst[:])\n",
        "    val = state[blank_i][blank_j + 1]\n",
        "    child[blank_i][blank_j] = val\n",
        "    child[blank_i][blank_j + 1] = 0\n",
        "    child_node = Node(child, state, node.cost+1)\n",
        "    expanded_nodes.append(child_node)\n",
        "\n",
        "  return expanded_nodes"
      ],
      "metadata": {
        "id": "CpLRU8_mWjnm"
      },
      "execution_count": 12,
      "outputs": []
    },
    {
      "cell_type": "code",
      "source": [
        "state = [[7, 2, 4], [0, 5, 6], [8, 3, 1]]\n",
        "node = Node(state)\n",
        "exp_nodes = expand(node)\n",
        "for node in exp_nodes:\n",
        "  print(node.state)"
      ],
      "metadata": {
        "id": "Bpio-U21WoeI",
        "outputId": "1291f6a2-f593-45d9-b3ab-35ad03303c22",
        "colab": {
          "base_uri": "https://localhost:8080/"
        }
      },
      "execution_count": 13,
      "outputs": [
        {
          "output_type": "stream",
          "name": "stdout",
          "text": [
            "[[0, 2, 4], [7, 5, 6], [8, 3, 1]]\n",
            "[[7, 2, 4], [8, 5, 6], [0, 3, 1]]\n",
            "[[7, 2, 4], [5, 0, 6], [8, 3, 1]]\n"
          ]
        }
      ]
    }
  ]
}