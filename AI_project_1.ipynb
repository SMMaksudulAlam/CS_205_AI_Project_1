{
  "nbformat": 4,
  "nbformat_minor": 0,
  "metadata": {
    "colab": {
      "provenance": []
    },
    "kernelspec": {
      "name": "python3",
      "display_name": "Python 3"
    },
    "language_info": {
      "name": "python"
    }
  },
  "cells": [
    {
      "cell_type": "code",
      "execution_count": 2,
      "metadata": {
        "id": "NcwZIMZCpUuV"
      },
      "outputs": [],
      "source": [
        "import math\n",
        "from queue import PriorityQueue\n",
        "import time"
      ]
    },
    {
      "cell_type": "code",
      "source": [
        "puzzle = 8\n",
        "dim = int(math.sqrt(puzzle)) + 1\n",
        "print(dim)"
      ],
      "metadata": {
        "id": "QipwMGO3stJH",
        "outputId": "0d4fd76e-8a26-49e6-ce49-6c7e53b5ae1d",
        "colab": {
          "base_uri": "https://localhost:8080/"
        }
      },
      "execution_count": 3,
      "outputs": [
        {
          "output_type": "stream",
          "name": "stdout",
          "text": [
            "3\n"
          ]
        }
      ]
    },
    {
      "cell_type": "code",
      "source": [
        "goal_state = []\n",
        "co_ordinates = {}\n",
        "for i in range(dim):\n",
        "  temp = []\n",
        "  for j in range(dim):\n",
        "    val = i*dim+(j+1)\n",
        "    temp.append(val)\n",
        "    co_ord = [i, j]\n",
        "    co_ordinates[val] = co_ord\n",
        "  goal_state.append(temp)\n",
        "\n",
        "last_val = goal_state[-1][-1]\n",
        "goal_state[-1][-1] = 0\n",
        "temp_co_ord = co_ordinates[last_val]\n",
        "del co_ordinates[last_val]\n",
        "co_ordinates[0] = temp_co_ord\n",
        "print(last_val)\n",
        "print(goal_state)\n",
        "print(co_ordinates)"
      ],
      "metadata": {
        "id": "A6dpQcc4s6FL",
        "outputId": "1ad21cb7-b266-4057-f2c9-e630ede4c628",
        "colab": {
          "base_uri": "https://localhost:8080/"
        }
      },
      "execution_count": 5,
      "outputs": [
        {
          "output_type": "stream",
          "name": "stdout",
          "text": [
            "9\n",
            "[[1, 2, 3], [4, 5, 6], [7, 8, 0]]\n",
            "{1: [0, 0], 2: [0, 1], 3: [0, 2], 4: [1, 0], 5: [1, 1], 6: [1, 2], 7: [2, 0], 8: [2, 1], 0: [2, 2]}\n"
          ]
        }
      ]
    },
    {
      "cell_type": "code",
      "source": [],
      "metadata": {
        "id": "cVgeXt-ZvbRD",
        "outputId": "4b3c13c8-4511-4817-e54a-48ac33fc0771",
        "colab": {
          "base_uri": "https://localhost:8080/"
        }
      },
      "execution_count": 6,
      "outputs": [
        {
          "output_type": "stream",
          "name": "stdout",
          "text": [
            "fatal: not a git repository (or any of the parent directories): .git\n"
          ]
        }
      ]
    }
  ]
}