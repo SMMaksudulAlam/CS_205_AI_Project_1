{
  "nbformat": 4,
  "nbformat_minor": 0,
  "metadata": {
    "colab": {
      "provenance": []
    },
    "kernelspec": {
      "name": "python3",
      "display_name": "Python 3"
    },
    "language_info": {
      "name": "python"
    }
  },
  "cells": [
    {
      "cell_type": "code",
      "execution_count": 2,
      "metadata": {
        "id": "NcwZIMZCpUuV"
      },
      "outputs": [],
      "source": [
        "import math\n",
        "from queue import PriorityQueue\n",
        "import time"
      ]
    },
    {
      "cell_type": "code",
      "source": [
        "puzzle = 8\n",
        "dim = int(math.sqrt(puzzle)) + 1\n",
        "print(dim)"
      ],
      "metadata": {
        "colab": {
          "base_uri": "https://localhost:8080/"
        },
        "id": "QipwMGO3stJH",
        "outputId": "0d4fd76e-8a26-49e6-ce49-6c7e53b5ae1d"
      },
      "execution_count": 3,
      "outputs": [
        {
          "output_type": "stream",
          "name": "stdout",
          "text": [
            "3\n"
          ]
        }
      ]
    },
    {
      "cell_type": "code",
      "source": [
        "goal_state = []\n",
        "co_ordinates = {}\n",
        "for i in range(dim):\n",
        "  temp = []\n",
        "  for j in range(dim):\n",
        "    val = i*dim+(j+1)\n",
        "    temp.append(val)\n",
        "    co_ord = [i, j]\n",
        "    co_ordinates[val] = co_ord\n",
        "  goal_state.append(temp)\n",
        "\n",
        "last_val = goal_state[-1][-1]\n",
        "goal_state[-1][-1] = 0\n",
        "temp_co_ord = co_ordinates[last_val]\n",
        "del co_ordinates[last_val]\n",
        "co_ordinates[0] = temp_co_ord\n",
        "print(last_val)\n",
        "print(goal_state)\n",
        "print(co_ordinates)"
      ],
      "metadata": {
        "colab": {
          "base_uri": "https://localhost:8080/"
        },
        "id": "A6dpQcc4s6FL",
        "outputId": "1ad21cb7-b266-4057-f2c9-e630ede4c628"
      },
      "execution_count": 5,
      "outputs": [
        {
          "output_type": "stream",
          "name": "stdout",
          "text": [
            "9\n",
            "[[1, 2, 3], [4, 5, 6], [7, 8, 0]]\n",
            "{1: [0, 0], 2: [0, 1], 3: [0, 2], 4: [1, 0], 5: [1, 1], 6: [1, 2], 7: [2, 0], 8: [2, 1], 0: [2, 2]}\n"
          ]
        }
      ]
    },
    {
      "cell_type": "code",
      "source": [
        "def manhattan_distance(state):\n",
        "  m_dist = 0\n",
        "  for i in range(dim):\n",
        "    for j in range(dim):\n",
        "      val = state[i][j]\n",
        "      if(val == 0):\n",
        "        continue\n",
        "      goal_co_ord = co_ordinates[val]\n",
        "      i_goal = goal_co_ord[0]\n",
        "      j_goal = goal_co_ord[1]\n",
        "      m_dist += abs(i_goal - i) + abs(j_goal - j)\n",
        "  return m_dist"
      ],
      "metadata": {
        "id": "oEiVY8unzuZu"
      },
      "execution_count": 9,
      "outputs": []
    },
    {
      "cell_type": "code",
      "source": [
        "state = [[7, 2, 4], [5, 0, 6], [8, 3, 1]]\n",
        "dist = manhattan_distance(state)\n",
        "print(dist)"
      ],
      "metadata": {
        "colab": {
          "base_uri": "https://localhost:8080/"
        },
        "id": "Z6VmP8PEz1XK",
        "outputId": "895ccfcc-d2ab-44f5-f991-8a51da17051d"
      },
      "execution_count": 10,
      "outputs": [
        {
          "output_type": "stream",
          "name": "stdout",
          "text": [
            "14\n"
          ]
        }
      ]
    },
    {
      "cell_type": "code",
      "source": [
        "def misplaced_tile(state):\n",
        "  m_tile = 0\n",
        "  for i in range(dim):\n",
        "    for j in range(dim):\n",
        "      val = goal_state[i][j]\n",
        "      if(val == 0):\n",
        "        continue\n",
        "      if(val != state[i][j]):\n",
        "        m_tile += 1\n",
        "  return m_tile"
      ],
      "metadata": {
        "id": "nVX-xPJp7JgT"
      },
      "execution_count": 13,
      "outputs": []
    },
    {
      "cell_type": "code",
      "source": [
        "state = [[7, 2, 4], [5, 0, 6], [8, 3, 1]]\n",
        "dist = misplaced_tile(state)\n",
        "print(dist)"
      ],
      "metadata": {
        "id": "sMM4tA477OuR",
        "outputId": "aad79726-cd5d-4283-ce0c-d02addf28045",
        "colab": {
          "base_uri": "https://localhost:8080/"
        }
      },
      "execution_count": 14,
      "outputs": [
        {
          "output_type": "stream",
          "name": "stdout",
          "text": [
            "6\n"
          ]
        }
      ]
    }
  ]
}