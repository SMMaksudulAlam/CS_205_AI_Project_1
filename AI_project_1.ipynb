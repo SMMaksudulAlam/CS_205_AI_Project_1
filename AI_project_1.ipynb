{
  "nbformat": 4,
  "nbformat_minor": 0,
  "metadata": {
    "colab": {
      "provenance": []
    },
    "kernelspec": {
      "name": "python3",
      "display_name": "Python 3"
    },
    "language_info": {
      "name": "python"
    }
  },
  "cells": [
    {
      "cell_type": "code",
      "execution_count": null,
      "metadata": {
        "id": "NcwZIMZCpUuV"
      },
      "outputs": [],
      "source": [
        "import math\n",
        "from queue import PriorityQueue\n",
        "import time"
      ]
    },
    {
      "cell_type": "code",
      "source": [
        "puzzle = 8\n",
        "dim = int(math.sqrt(puzzle)) + 1\n",
        "print(dim)"
      ],
      "metadata": {
        "id": "9z_7ZmiHplHR",
        "outputId": "e28e67be-d44b-4f06-edcf-46c006f14ec2",
        "colab": {
          "base_uri": "https://localhost:8080/"
        }
      },
      "execution_count": null,
      "outputs": [
        {
          "output_type": "stream",
          "name": "stdout",
          "text": [
            "3\n"
          ]
        }
      ]
    }
  ]
}